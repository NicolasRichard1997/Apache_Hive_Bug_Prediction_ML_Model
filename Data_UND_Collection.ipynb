{
 "cells": [
  {
   "cell_type": "markdown",
   "metadata": {},
   "source": [
    "# UND Data Collection\n",
    "We can collect UND data. We'll use the below `run_command` fonction to run Understand via the CLI to speed up the process. Typically, when running the below task, the present notebook is converted to a python file which is executed directly."
   ]
  },
  {
   "cell_type": "code",
   "execution_count": 1,
   "metadata": {},
   "outputs": [],
   "source": [
    "import pandas as pd\n",
    "import sys\n",
    "import os\n",
    "import re\n",
    "from pathlib import Path\n",
    "import os\n",
    "import csv\n",
    "import subprocess"
   ]
  },
  {
   "cell_type": "code",
   "execution_count": null,
   "metadata": {},
   "outputs": [],
   "source": [
    "project_repo = \"/home/nicolas-richard/Desktop/.Apache_Hive_Bug_Prediction_ML_Model/\"\n",
    "hive_repo = \"/home/nicolas-richard/Desktop/.Apache_Hive/\"\n",
    "version_file = os.path.join(project_repo, \"Hive_Last_Commits.csv\")\n",
    "und_base = os.path.join(project_repo, \"UND_projects\")\n",
    "settings_file_path = os.path.join(project_repo, \"settings.xml\")\n",
    "hive_data = os.path.join(project_repo, 'UND_hive_data')\n",
    "\n",
    "os.chdir(project_repo)\n",
    "\n",
    "def run_command(command):\n",
    "    try:\n",
    "        subprocess.run(command, shell=True, check=True)\n",
    "        return True  \n",
    "    except subprocess.CalledProcessError as e:\n",
    "        print(f\"Command failed: {e.cmd}\")\n",
    "        return False \n",
    "\n",
    "run_command(f'mkdir -p -m 777 {und_base}')\n",
    "run_command(f' mkdir -p -m 777 {hive_data}')\n",
    "\n",
    "os.chdir(hive_repo)\n",
    "\n",
    "def process_versions():\n",
    "\n",
    "    os.chdir(hive_repo)\n",
    "\n",
    "    with open(version_file, \"r\") as file:\n",
    "        next(file)\n",
    "        for line in file:\n",
    "            if line.strip():\n",
    "                version, commit_id = line.split(\",\")[0].strip(), line.split(\",\")[1].strip()              \n",
    "\n",
    "                run_command(f\"cd {hive_repo}\")\n",
    "                run_command(\"git reset --hard\")\n",
    "                run_command(\"git clean -fdx\")\n",
    "\n",
    "                if not run_command(f\"git checkout -f {commit_id}\"):\n",
    "                    sys.exit(1)\n",
    "                print(f\"Successfully checked out {commit_id} before {version}\")\n",
    "\n",
    "\n",
    "                \n",
    "                und_project_path = f\"{und_base}/UND_{version}.und\"\n",
    "\n",
    "                run_command(f\"und create -languages java C++ {und_project_path}\")\n",
    "\n",
    "                destination_settings_file = f\"{und_project_path}/settings.xml\"\n",
    "\n",
    "                if os.path.exists(destination_settings_file):\n",
    "                    print(f\"Removing existing settings.xml at {destination_settings_file}\")\n",
    "                    os.remove(destination_settings_file)\n",
    "\n",
    "                run_command(f\"cp {settings_file_path} {und_project_path}\")\n",
    "                \n",
    "                # Redudancy here is to override SciTools Understand's automatic generation of files\n",
    "                run_command(f\"cp {settings_file_path} {destination_settings_file}\")\n",
    "                run_command(f\"und settings -metricsOutputFile {os.path.join(hive_data, f'UND_{version}.csv')} {und_project_path}\")\n",
    "\n",
    "                run_command(f\"und add {hive_repo} {und_project_path}\")\n",
    "                run_command(f\"cp {settings_file_path} {destination_settings_file}\")\n",
    "                run_command(f\"und settings -metricsOutputFile {os.path.join(hive_data, f'UND_{version}.csv')} {und_project_path}\")\n",
    "\n",
    "                run_command(f\"und analyze --threads {und_project_path}\")\n",
    "                run_command(f\"cp {settings_file_path} {destination_settings_file}\")\n",
    "                run_command(f\"und settings -metricsOutputFile {os.path.join(hive_data, f'UND_{version}.csv')} {und_project_path}\")\n",
    "\n",
    "                run_command(f\"und metrics {und_project_path}\")\n",
    "               \n",
    "if __name__ == \"__main__\":\n",
    "    process_versions()"
   ]
  }
 ],
 "metadata": {
  "kernelspec": {
   "display_name": "Python 3",
   "language": "python",
   "name": "python3"
  },
  "language_info": {
   "codemirror_mode": {
    "name": "ipython",
    "version": 3
   },
   "file_extension": ".py",
   "mimetype": "text/x-python",
   "name": "python",
   "nbconvert_exporter": "python",
   "pygments_lexer": "ipython3",
   "version": "3.12.3"
  }
 },
 "nbformat": 4,
 "nbformat_minor": 2
}
