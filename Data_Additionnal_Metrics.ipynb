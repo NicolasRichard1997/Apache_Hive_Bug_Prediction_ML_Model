{
 "cells": [
  {
   "cell_type": "markdown",
   "metadata": {},
   "source": [
    "# Additionnal Metrics\n",
    "As per the specification of the personnal project, we'll try and gather additionnal metrics to improve our model. \n",
    "## 1. Lines added & deleted from a given version\n",
    "We'll begin by creating a dictionnary of versions and corresponding commits from the file `Hive_Last_Commits.csv`previously created"
   ]
  },
  {
   "cell_type": "code",
   "execution_count": 1,
   "metadata": {},
   "outputs": [],
   "source": [
    "import os\n",
    "import glob\n",
    "import csv\n",
    "import pandas as pd\n",
    "from pathlib import Path\n",
    "from collections import defaultdict"
   ]
  },
  {
   "cell_type": "code",
   "execution_count": 3,
   "metadata": {},
   "outputs": [],
   "source": [
    "project_repo = Path(\"/home/nicolas-richard/Desktop/.Apache_Hive_Bug_Prediction_ML_Model/\")\n",
    "hive_repo = Path(\"/home/nicolas-richard/Desktop/.Apache_Hive/\")"
   ]
  },
  {
   "cell_type": "code",
   "execution_count": null,
   "metadata": {},
   "outputs": [],
   "source": [
    "last_commits = open(os.path.join(project_repo,\"Hive_Last_Commits.csv\"), \"r\")\n",
    "\n",
    "versions = []\n",
    "commits_by_version = {}\n",
    "\n",
    "for line in last_commits.readlines():\n",
    "    parts = line.strip().split(\": \")\n",
    "    version = parts[0].split(\"-\")[1]  \n",
    "    commit = parts[-1].split(\" \")[0]  \n",
    "    versions.append(str(version))\n",
    "    commits_by_version[version] = commit\n",
    "    \n",
    "last_commits.close()\n",
    "\n",
    "print(commits_by_version)\n",
    "print(versions)"
   ]
  },
  {
   "cell_type": "code",
   "execution_count": null,
   "metadata": {},
   "outputs": [],
   "source": [
    "import os\n",
    "import pandas as pd\n",
    "\n",
    "csv_files = sorted([f for f in os.listdir(output_directory) if f.endswith('_processed.csv')])\n",
    "\n",
    "for file in csv_files:\n",
    "    \n",
    "    df = pd.read_csv(os.path.join(output_directory, file))\n",
    "    version = file.split(\"-\")[-1].split(\"_\")[0]\n",
    "\n",
    "    print(f\"\\n=== Processing version : {version} ===\")\n",
    "\n",
    "    for another_file in csv_files:\n",
    "        another_version = another_file.split(\"-\")[-1].split(\"_\")[0]\n",
    "        if another_version >= version:\n",
    "            continue  \n",
    "\n",
    "        if f\"LinesAddedSince{another_version}\" not in df.columns:\n",
    "            df[f\"LinesAddedSince{another_version}\"] = 0\n",
    "        if f\"LinesRemovedSince{another_version}\" not in df.columns:\n",
    "            df[f\"LinesRemovedSince{another_version}\"] = 0\n",
    "\n",
    "    for another_file in csv_files:\n",
    "        another_version = another_file.split(\"-\")[-1].split(\"_\")[0]\n",
    "        if another_version >= version or another_version == version:\n",
    "            continue  \n",
    "\n",
    "        print(f\"  Comparing with earlier version: {another_version}\")\n",
    "        another_df = pd.read_csv(os.path.join(output_directory, another_file))\n",
    "\n",
    "        for index, row in df.iterrows():\n",
    "            file_name = row[\"FileName\"]\n",
    "            line_count = row[\"CountLine\"]\n",
    "\n",
    "            matching_rows = another_df[another_df[\"FileName\"] == file_name]\n",
    "\n",
    "            if not matching_rows.empty:\n",
    "                another_line_count = matching_rows.iloc[0][\"CountLine\"]\n",
    "\n",
    "                print(f\"    - {file_name} found in version {another_version}\")\n",
    "\n",
    "                if line_count > another_line_count:\n",
    "                    added_lines = line_count - another_line_count\n",
    "                    df.loc[index, f\"LinesAddedSince{another_version}\"] = added_lines\n",
    "                    print(f\"      Lines added: {added_lines}\")\n",
    "                elif line_count < another_line_count:\n",
    "                    removed_lines = another_line_count - line_count\n",
    "                    df.loc[index, f\"LinesRemovedSince{another_version}\"] = removed_lines\n",
    "                    print(f\"      Lines removed: {removed_lines}\")\n",
    "\n",
    "    output_path = os.path.join(output_directory, file)\n",
    "    df.to_csv(output_path, index=False)\n",
    "    print(f\"=== Updated file saved as {output_path} ===\\n\")"
   ]
  }
 ],
 "metadata": {
  "kernelspec": {
   "display_name": "Python 3",
   "language": "python",
   "name": "python3"
  },
  "language_info": {
   "codemirror_mode": {
    "name": "ipython",
    "version": 3
   },
   "file_extension": ".py",
   "mimetype": "text/x-python",
   "name": "python",
   "nbconvert_exporter": "python",
   "pygments_lexer": "ipython3",
   "version": "3.12.3"
  }
 },
 "nbformat": 4,
 "nbformat_minor": 2
}
